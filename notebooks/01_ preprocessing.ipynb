{
 "cells": [
  {
   "cell_type": "markdown",
   "metadata": {},
   "source": [
    "## Get dataset"
   ]
  },
  {
   "cell_type": "code",
   "execution_count": 7,
   "metadata": {},
   "outputs": [],
   "source": [
    "import os\n",
    "import gspread\n",
    "import pandas as pd\n",
    "\n",
    "json_path = os.path.join(os.getcwd(), '../', 'data', 'raw', 'service_account.json')\n",
    "\n",
    "sa = gspread.service_account(filename=json_path)\n",
    "sh = sa.open('ProyectoDM')\n",
    "\n",
    "worksheet = sh.sheet1\n",
    "data = worksheet.get_all_records()\n",
    "df = pd.DataFrame(data)"
   ]
  },
  {
   "cell_type": "markdown",
   "metadata": {},
   "source": [
    "## Main"
   ]
  },
  {
   "cell_type": "code",
   "execution_count": 8,
   "metadata": {},
   "outputs": [
    {
     "name": "stdout",
     "output_type": "stream",
     "text": [
      "<class 'pandas.core.frame.DataFrame'>\n",
      "RangeIndex: 1833 entries, 0 to 1832\n",
      "Data columns (total 19 columns):\n",
      " #   Column                   Non-Null Count  Dtype  \n",
      "---  ------                   --------------  -----  \n",
      " 0   escuela                  1833 non-null   object \n",
      " 1   promedio_global          1833 non-null   float64\n",
      " 2   materias_reprobadas      1833 non-null   float64\n",
      " 3   edad                     1833 non-null   int64  \n",
      " 4   genero                   1833 non-null   object \n",
      " 5   dependientes_economicos  1833 non-null   object \n",
      " 6   personas_a_cargo         1833 non-null   object \n",
      " 7   apoyo_familiar           1833 non-null   int64  \n",
      " 8   apoyos_economicos        1833 non-null   object \n",
      " 9   foraneo                  1833 non-null   object \n",
      " 10  minutos_traslado         1833 non-null   float64\n",
      " 11  horas_estudio            1833 non-null   float64\n",
      " 12  validacion_encuesta      1833 non-null   object \n",
      " 13  horas_trabajo            1833 non-null   float64\n",
      " 14  enfermedad_cronica       1833 non-null   object \n",
      " 15  satisfaccion_carrera     1833 non-null   object \n",
      " 16  ejercer_carrera          1833 non-null   object \n",
      " 17  horas_sueno              1833 non-null   float64\n",
      " 18  frecuencia_IA            1833 non-null   int64  \n",
      "dtypes: float64(6), int64(3), object(10)\n",
      "memory usage: 272.2+ KB\n"
     ]
    }
   ],
   "source": [
    "renamed_columns = {\n",
    "    # 'Marca temporal': 'marca_temporal',\n",
    "    # 'Dirección de correo electrónico': 'correo',\n",
    "    '¿A qué escuela perteneces?': 'escuela',\n",
    "    '¿Cuál es tu promedio global? ': 'promedio_global',\n",
    "    '¿Cuántas materias has reprobado a lo largo de tu trayectoria?': 'materias_reprobadas',\n",
    "    '¿Qué edad tienes? ': 'edad',\n",
    "    '¿Cuál es tu género?': 'genero',\n",
    "    '¿Tienes dependientes económicos?': 'dependientes_economicos',\n",
    "    '¿Tienes personas a tu cuidado?': 'personas_a_cargo',\n",
    "    '¿Te sientes apoyado por tu familia?': 'apoyo_familiar',\n",
    "    '¿Requieres de apoyos económicos (becas) para sostener tus estudios?': 'apoyos_economicos',\n",
    "    '¿Eres foráneo?': 'foraneo',\n",
    "    '¿Cuánto tiempo tardas en llegar a tu escuela en minutos?': 'minutos_traslado',\n",
    "    '¿Cuántas horas diarias dedicas al estudio fuera de clases?': 'horas_estudio',\n",
    "    'Para validar la lectura de esta encuesta selecciona la opción 3 horas': 'validacion_encuesta',\n",
    "    '¿Cuántas horas trabajas al día? \\nSi no trabajas, escribe \\'0\\'.': 'horas_trabajo',\n",
    "    '¿Padeces de alguna enfermedad crónica (Por ejemplo: diabetes, hipertensión, asma, etc.)?': 'enfermedad_cronica',\n",
    "    '¿Te gusta tu carrera?': 'satisfaccion_carrera',\n",
    "    '¿Piensas ejercer la carrera?': 'ejercer_carrera',\n",
    "    '¿Cuántas horas duermes en promedio al día?': 'horas_sueno',\n",
    "    '¿Con qué frecuencia utilizas herramientas de IA?': 'frecuencia_IA',\n",
    "}\n",
    "\n",
    "df.drop(columns=['Marca temporal', 'Dirección de correo electrónico'], inplace=True)\n",
    "df.rename(columns=renamed_columns, inplace=True)\n",
    "df.info()"
   ]
  },
  {
   "cell_type": "code",
   "execution_count": 11,
   "metadata": {},
   "outputs": [
    {
     "name": "stdout",
     "output_type": "stream",
     "text": [
      "[+] Valid rows: 1777\n",
      "[+] Invalid rows: 56\n"
     ]
    }
   ],
   "source": [
    "# Filter rows with value 3 in validacion_encuesta column and count them\n",
    "valid_rows = df[df['validacion_encuesta'] == '3 horas']\n",
    "print(f'[+] Valid rows: {len(valid_rows)}')\n",
    "\n",
    "# Filter rows with value is not 3 in validacion_encuesta column and count them\n",
    "invalid_rows = df[df['validacion_encuesta'] != '3 horas']\n",
    "print(f'[+] Invalid rows: {len(invalid_rows)}')\n"
   ]
  },
  {
   "cell_type": "code",
   "execution_count": 12,
   "metadata": {},
   "outputs": [
    {
     "name": "stdout",
     "output_type": "stream",
     "text": [
      "Column: escuela\n",
      "  ENCB -> 0\n",
      "  ESCOM -> 1\n",
      "  ESFM -> 2\n",
      "  ESIA -> 3\n",
      "  ESIME -> 4\n",
      "  ESIQIE -> 5\n",
      "  ESIT -> 6\n",
      "  EST -> 7\n",
      "  UPIEM -> 8\n",
      "\n",
      "\n",
      "Column: genero\n",
      "  Femenino -> 0\n",
      "  Masculino -> 1\n",
      "  Prefiero no decirlo -> 2\n",
      "\n",
      "\n",
      "Column: dependientes_economicos\n",
      "  No -> 0\n",
      "  Sí -> 1\n",
      "\n",
      "\n",
      "Column: personas_a_cargo\n",
      "   -> 0\n",
      "  No -> 1\n",
      "  Sí -> 2\n",
      "\n",
      "\n",
      "Column: apoyos_economicos\n",
      "  No -> 0\n",
      "  Sí -> 1\n",
      "\n",
      "\n",
      "Column: foraneo\n",
      "  No -> 0\n",
      "  Sí -> 1\n",
      "\n",
      "\n",
      "Column: validacion_encuesta\n",
      "  1 hora -> 0\n",
      "  2 horas -> 1\n",
      "  3 horas -> 2\n",
      "\n",
      "\n",
      "Column: enfermedad_cronica\n",
      "  No -> 0\n",
      "  Sí -> 1\n",
      "\n",
      "\n",
      "Column: satisfaccion_carrera\n",
      "  Indiferente -> 0\n",
      "  No -> 1\n",
      "  Sí -> 2\n",
      "\n",
      "\n",
      "Column: ejercer_carrera\n",
      "  No -> 0\n",
      "  No estoy seguro -> 1\n",
      "  Sí -> 2\n",
      "\n",
      "\n"
     ]
    }
   ],
   "source": [
    "from sklearn.preprocessing import LabelEncoder\n",
    "\n",
    "# Store mappings\n",
    "mappings = {}\n",
    "\n",
    "columns_list = [\n",
    "    'escuela', 'genero', 'dependientes_economicos', 'personas_a_cargo',\n",
    "    'apoyos_economicos', 'foraneo', 'validacion_encuesta',\n",
    "    'enfermedad_cronica', 'satisfaccion_carrera', 'ejercer_carrera'\n",
    "]\n",
    "\n",
    "for column in columns_list:\n",
    "    label_encoder = LabelEncoder()\n",
    "    \n",
    "    # Fit and transform the column\n",
    "    df[f'{column}_encoded'] = label_encoder.fit_transform(df[column])\n",
    "    \n",
    "    # Store the mapping of old values to new values\n",
    "    mappings[column] = dict(zip(label_encoder.classes_, label_encoder.transform(label_encoder.classes_)))\n",
    "\n",
    "# Display the old and new values\n",
    "for column, mapping in mappings.items():\n",
    "    print(f\"Column: {column}\")\n",
    "    for original, encoded in mapping.items():\n",
    "        print(f\"  {original} -> {encoded}\")\n",
    "    print(\"\\n\")\n"
   ]
  },
  {
   "cell_type": "markdown",
   "metadata": {},
   "source": [
    "## Save dataset processed"
   ]
  },
  {
   "cell_type": "code",
   "execution_count": 13,
   "metadata": {},
   "outputs": [],
   "source": [
    "# Remove columns that have not been encoded\n",
    "df.drop(columns=[\n",
    "    'escuela', 'genero', 'dependientes_economicos', 'personas_a_cargo',\n",
    "    'apoyos_economicos', 'foraneo', 'validacion_encuesta',\n",
    "    'enfermedad_cronica', 'satisfaccion_carrera', 'ejercer_carrera'\n",
    "], inplace=True)\n",
    "\n",
    "# Rename the encoded columns\n",
    "df.rename(columns={\n",
    "    'escuela_encoded': 'escuela',\n",
    "    'genero_encoded': 'genero',\n",
    "    'dependientes_economicos_encoded': 'dependientes_economicos',\n",
    "    'personas_a_cargo_encoded': 'personas_a_cargo',\n",
    "    'apoyos_economicos_encoded': 'apoyos_economicos',\n",
    "    'foraneo_encoded': 'foraneo',\n",
    "    'validacion_encuesta_encoded': 'validacion_encuesta',\n",
    "    'enfermedad_cronica_encoded': 'enfermedad_cronica',\n",
    "    'satisfaccion_carrera_encoded': 'satisfaccion_carrera',\n",
    "    'ejercer_carrera_encoded': 'ejercer_carrera'\n",
    "}, inplace=True)\n",
    "\n",
    "# Save the processed data\n",
    "df.to_csv('../data/processed/processed_data.csv', index=False)"
   ]
  }
 ],
 "metadata": {
  "kernelspec": {
   "display_name": "venv",
   "language": "python",
   "name": "python3"
  },
  "language_info": {
   "codemirror_mode": {
    "name": "ipython",
    "version": 3
   },
   "file_extension": ".py",
   "mimetype": "text/x-python",
   "name": "python",
   "nbconvert_exporter": "python",
   "pygments_lexer": "ipython3",
   "version": "3.12.0"
  }
 },
 "nbformat": 4,
 "nbformat_minor": 2
}
