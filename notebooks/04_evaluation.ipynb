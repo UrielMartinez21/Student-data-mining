{
 "cells": [
  {
   "cell_type": "markdown",
   "metadata": {},
   "source": [
    "## Load X_test and y_test"
   ]
  },
  {
   "cell_type": "code",
   "execution_count": 14,
   "metadata": {},
   "outputs": [],
   "source": [
    "import pandas as pd\n",
    "import os\n",
    "import torch\n",
    "\n",
    "X_test_path = os.path.join(os.getcwd(), '../', 'data', 'processed', 'X_test_wiht_outliers.csv')\n",
    "y_test_path = os.path.join(os.getcwd(), '../', 'data', 'processed', 'y_test_wiht_outliers.csv')\n",
    "\n",
    "X_test = pd.read_csv(X_test_path)\n",
    "y_test = pd.read_csv(y_test_path)\n",
    "\n",
    "X_test = torch.tensor(X_test.values, dtype=torch.float32)\n",
    "y_test = torch.tensor(y_test.values, dtype=torch.float32).view(-1, 1)"
   ]
  },
  {
   "cell_type": "markdown",
   "metadata": {},
   "source": [
    "## Load model"
   ]
  },
  {
   "cell_type": "code",
   "execution_count": 15,
   "metadata": {},
   "outputs": [],
   "source": [
    "import os\n",
    "import sys\n",
    "import torch\n",
    "\n",
    "# Get the project root\n",
    "project_root = os.path.abspath(\"..\")    # Go up one level from \"notebooks/\"\n",
    "sys.path.append(project_root)           # Add the root to the path\n",
    "\n",
    "from src.models.train_model import *\n",
    "from src.tests.test_models import *"
   ]
  },
  {
   "cell_type": "code",
   "execution_count": 16,
   "metadata": {},
   "outputs": [],
   "source": [
    "best_model_path = os.path.join(os.getcwd(), '../', 'src', 'models', 'avg_with_outliers.pth')\n",
    "\n",
    "loaded_model = RegressionModel(5)\n",
    "loaded_model.load_state_dict(torch.load(best_model_path, weights_only=True))\n",
    "criterion = RMSELoss()"
   ]
  },
  {
   "cell_type": "markdown",
   "metadata": {},
   "source": [
    "## Evaluate model"
   ]
  },
  {
   "cell_type": "code",
   "execution_count": 17,
   "metadata": {},
   "outputs": [
    {
     "name": "stdout",
     "output_type": "stream",
     "text": [
      "Final Test Loss (RMSE): 0.8661\n"
     ]
    }
   ],
   "source": [
    "# Evaluación final en el conjunto de prueba\n",
    "loaded_model.eval()\n",
    "with torch.no_grad():\n",
    "    test_outputs = loaded_model(X_test)\n",
    "    test_loss = criterion(test_outputs, y_test)\n",
    "    print(f'Final Test Loss (RMSE): {test_loss.item():.4f}')"
   ]
  },
  {
   "cell_type": "markdown",
   "metadata": {},
   "source": [
    "## Metrics"
   ]
  },
  {
   "cell_type": "code",
   "execution_count": 18,
   "metadata": {},
   "outputs": [
    {
     "name": "stdout",
     "output_type": "stream",
     "text": [
      "Test Metrics:\n",
      "\tMean Squared Error (MSE): 0.5390\n",
      "\tRoot Mean Squared Error (RMSE): 0.7342\n",
      "\tMean Absolute Error (MAE): 0.5593\n",
      "\tMean Absolute Percentage Error (MAPE): 7.38%\n",
      "\tAcurracy: 92.62%\n"
     ]
    }
   ],
   "source": [
    "import torch\n",
    "\n",
    "loaded_model.eval()                # Set the model to evaluation mode\n",
    "with torch.no_grad():\n",
    "    # Predictions for test set\n",
    "    test_outputs = loaded_model(X_test)\n",
    "    \n",
    "    # Get metrics\n",
    "    mse, rmse, mae, mape = calculate_metrics(y_test, test_outputs)\n",
    "\n",
    "print(f\"Test Metrics:\")\n",
    "print(f\"\\tMean Squared Error (MSE): {mse:.4f}\")\n",
    "print(f\"\\tRoot Mean Squared Error (RMSE): {rmse:.4f}\")\n",
    "print(f\"\\tMean Absolute Error (MAE): {mae:.4f}\")\n",
    "print(f\"\\tMean Absolute Percentage Error (MAPE): {mape:.2f}%\")\n",
    "print(f\"\\tAcurracy: {100 - mape:.2f}%\")"
   ]
  },
  {
   "cell_type": "markdown",
   "metadata": {},
   "source": [
    "## Testing"
   ]
  },
  {
   "cell_type": "code",
   "execution_count": 19,
   "metadata": {},
   "outputs": [
    {
     "name": "stdout",
     "output_type": "stream",
     "text": [
      "Predicted Promedio Global: 8.24\n"
     ]
    }
   ],
   "source": [
    "# Data for prediction\n",
    "manual_input = preprocess_input(\n",
    "    escuela='ESCOM',\n",
    "    materias_reprobadas=0,\n",
    "    apoyo_familiar=3,\n",
    "    apoyos_economicos='Sí',\n",
    "    ejercer_carrera='Sí'\n",
    ")\n",
    "\n",
    "manual_input = manual_input.unsqueeze(0)\n",
    "\n",
    "# model.eval()\n",
    "loaded_model.eval()\n",
    "\n",
    "# Make prediction\n",
    "with torch.no_grad():\n",
    "    prediction = loaded_model(manual_input)\n",
    "\n",
    "# Show prediction\n",
    "print(f'Predicted Promedio Global: {prediction.item():.2f}')"
   ]
  }
 ],
 "metadata": {
  "kernelspec": {
   "display_name": "venv",
   "language": "python",
   "name": "python3"
  },
  "language_info": {
   "codemirror_mode": {
    "name": "ipython",
    "version": 3
   },
   "file_extension": ".py",
   "mimetype": "text/x-python",
   "name": "python",
   "nbconvert_exporter": "python",
   "pygments_lexer": "ipython3",
   "version": "3.12.0"
  }
 },
 "nbformat": 4,
 "nbformat_minor": 2
}
